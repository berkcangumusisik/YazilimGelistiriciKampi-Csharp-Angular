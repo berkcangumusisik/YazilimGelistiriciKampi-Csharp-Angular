{
 "cells": [
  {
   "cell_type": "code",
   "execution_count": 4,
   "id": "ba566945",
   "metadata": {},
   "outputs": [
    {
     "name": "stdout",
     "output_type": "stream",
     "text": [
      "Krediler Listelendi.\n",
      "Bitti.\n",
      "Krediler Listelendi.\n",
      "Bitti.\n",
      "Krediler Listelendi.\n",
      "Bitti.\n",
      "Krediler Listelendi.\n",
      "Bitti.\n",
      "Krediler Listelendi.\n",
      "Bitti.\n"
     ]
    }
   ],
   "source": [
    "def krediListele():\n",
    "    print(\"Krediler Listelendi.\")\n",
    "    print(\"Bitti.\")\n",
    "    \n",
    "krediListele()\n",
    "krediListele()\n",
    "krediListele()\n",
    "krediListele()\n",
    "krediListele()"
   ]
  },
  {
   "cell_type": "code",
   "execution_count": 5,
   "id": "1b5c3739",
   "metadata": {},
   "outputs": [
    {
     "name": "stdout",
     "output_type": "stream",
     "text": [
      "Hızlı Kredi\n",
      "Maaşını Halkbanktan...\n",
      "Mutlu Emekli\n",
      "Özel Sektör\n",
      "Hızlı Kredi\n",
      "Maaşını Halkbanktan...\n",
      "Mutlu Emekli\n",
      "Özel Sektör\n",
      "Hızlı Kredi\n",
      "Maaşını Halkbanktan...\n",
      "Mutlu Emekli\n",
      "Özel Sektör\n",
      "Hızlı Kredi\n",
      "Maaşını Halkbanktan...\n",
      "Mutlu Emekli\n",
      "Özel Sektör\n"
     ]
    }
   ],
   "source": [
    "def krediListesi():\n",
    "    kredi1 = \"Hızlı Kredi\"\n",
    "    kredi2 = \"Maaşını Halkbanktan...\"\n",
    "    kredi3 = \"Mutlu Emekli\"\n",
    "    kredi4 = \"Özel Sektör\"\n",
    "    krediler = [kredi1, kredi2, kredi3, kredi4]\n",
    "    for kredi in krediler:\n",
    "        print(kredi)\n",
    "krediListesi()\n",
    "krediListesi()\n",
    "krediListesi()\n",
    "krediListesi()"
   ]
  },
  {
   "cell_type": "code",
   "execution_count": null,
   "id": "6e40379a",
   "metadata": {},
   "outputs": [],
   "source": []
  }
 ],
 "metadata": {
  "kernelspec": {
   "display_name": "Python 3",
   "language": "python",
   "name": "python3"
  },
  "language_info": {
   "codemirror_mode": {
    "name": "ipython",
    "version": 3
   },
   "file_extension": ".py",
   "mimetype": "text/x-python",
   "name": "python",
   "nbconvert_exporter": "python",
   "pygments_lexer": "ipython3",
   "version": "3.8.8"
  }
 },
 "nbformat": 4,
 "nbformat_minor": 5
}
