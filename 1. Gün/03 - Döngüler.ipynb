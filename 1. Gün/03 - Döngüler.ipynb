{
 "cells": [
  {
   "cell_type": "markdown",
   "id": "77595d47",
   "metadata": {},
   "source": [
    "# Listeler"
   ]
  },
  {
   "cell_type": "code",
   "execution_count": 4,
   "id": "407cb3b3",
   "metadata": {},
   "outputs": [
    {
     "name": "stdout",
     "output_type": "stream",
     "text": [
      "['Hızlı Kredi', 'Maaşını Halkbanktan...', 'Mutlu Emekli', 'Özel Sektör']\n"
     ]
    }
   ],
   "source": [
    "kredi1 = \"Hızlı Kredi\"\n",
    "kredi2 = \"Maaşını Halkbanktan...\"\n",
    "kredi3 = \"Mutlu Emekli\"\n",
    "kredi4 = \"Özel Sektör\"\n",
    "krediler = [kredi1, kredi2, kredi3, kredi4]\n",
    "print(krediler)"
   ]
  },
  {
   "cell_type": "code",
   "execution_count": 5,
   "id": "9ab04308",
   "metadata": {},
   "outputs": [
    {
     "name": "stdout",
     "output_type": "stream",
     "text": [
      "Hızlı Kredi\n",
      "Maaşını Halkbanktan...\n",
      "Mutlu Emekli\n",
      "Özel Sektör\n"
     ]
    }
   ],
   "source": [
    "for kredi in krediler:\n",
    "    print(kredi)"
   ]
  },
  {
   "cell_type": "code",
   "execution_count": null,
   "id": "e2de5f7f",
   "metadata": {},
   "outputs": [],
   "source": []
  }
 ],
 "metadata": {
  "kernelspec": {
   "display_name": "Python 3",
   "language": "python",
   "name": "python3"
  },
  "language_info": {
   "codemirror_mode": {
    "name": "ipython",
    "version": 3
   },
   "file_extension": ".py",
   "mimetype": "text/x-python",
   "name": "python",
   "nbconvert_exporter": "python",
   "pygments_lexer": "ipython3",
   "version": "3.8.8"
  }
 },
 "nbformat": 4,
 "nbformat_minor": 5
}
