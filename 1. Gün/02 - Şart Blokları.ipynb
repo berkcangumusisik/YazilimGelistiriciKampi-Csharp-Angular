{
 "cells": [
  {
   "cell_type": "code",
   "execution_count": 5,
   "id": "1dc66f68",
   "metadata": {},
   "outputs": [
    {
     "name": "stdout",
     "output_type": "stream",
     "text": [
      "Değişmedi Oku\n"
     ]
    }
   ],
   "source": [
    "dolarDun = 7.45\n",
    "dolarBugun = 7.45\n",
    "# syntax(Yazılım dilinin kuralları)\n",
    "if dolarDun > dolarBugun:\n",
    "    print(\"Azalış Oku\")\n",
    "elif dolarDun < dolarBugun:\n",
    "    print(\"Artış Oku\")\n",
    "elif dolarDun == dolarBugun: \n",
    "    print(\"Değişmedi Oku\")\n",
    "    \n",
    "# == : eşit mi?"
   ]
  },
  {
   "cell_type": "markdown",
   "id": "d0479042",
   "metadata": {},
   "source": [
    "if sart:\n",
    "\n",
    "    sart gecerliyse\n",
    "else:\n",
    "\n",
    "    sart gecerli degilse\n",
    "    \n",
    "If else yapısını sadece iki durum varsa kullanırız. Eğer 3. bir durum varsa elif yapısını kullanırız."
   ]
  },
  {
   "cell_type": "code",
   "execution_count": null,
   "id": "5fbbe003",
   "metadata": {},
   "outputs": [],
   "source": []
  }
 ],
 "metadata": {
  "kernelspec": {
   "display_name": "Python 3",
   "language": "python",
   "name": "python3"
  },
  "language_info": {
   "codemirror_mode": {
    "name": "ipython",
    "version": 3
   },
   "file_extension": ".py",
   "mimetype": "text/x-python",
   "name": "python",
   "nbconvert_exporter": "python",
   "pygments_lexer": "ipython3",
   "version": "3.8.8"
  }
 },
 "nbformat": 4,
 "nbformat_minor": 5
}
