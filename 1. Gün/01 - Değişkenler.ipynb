{
 "cells": [
  {
   "cell_type": "markdown",
   "id": "7d6c7e24",
   "metadata": {},
   "source": [
    " # print()\n",
    " Ekrana baskı yapmayı sağlar."
   ]
  },
  {
   "cell_type": "code",
   "execution_count": 6,
   "id": "1459a984",
   "metadata": {},
   "outputs": [
    {
     "name": "stdout",
     "output_type": "stream",
     "text": [
      "İlginizi Çekebilir!!!\n",
      "İlginizi Çekebilir!!!\n",
      "İlginizi Çekebilir!!!\n",
      "İlginizi Çekebilir!!!\n",
      "İlginizi Çekebilir!!!\n"
     ]
    }
   ],
   "source": [
    "baslik = \"İlginizi Çekebilir!!!\"\n",
    "print(baslik) \n",
    "print(baslik)\n",
    "print(baslik)\n",
    "print(baslik)\n",
    "print(baslik)"
   ]
  },
  {
   "cell_type": "markdown",
   "id": "96057a81",
   "metadata": {},
   "source": [
    " Değişkenler bir veri tutuculardır. Eğer değişken kullanmamış olsaydık her print içerisinide yeniden düzenlememiz gerekecekti. Kendini tekrardan uzak tutar. Değişkenlerin mantığı o veriyi bir yerde göstermektir. Her sayfada ayrı ayrı güncellemekten uzak tutar."
   ]
  },
  {
   "cell_type": "code",
   "execution_count": 4,
   "id": "414d44fc",
   "metadata": {},
   "outputs": [
    {
     "name": "stdout",
     "output_type": "stream",
     "text": [
      "İlginizi Çekebilir!\n",
      "İlginizi Çekebilir!\n",
      "İlginizi Çekebilir!\n",
      "İlginizi Çekebilir!\n",
      "İlginizi Çekebilir!\n"
     ]
    }
   ],
   "source": [
    "print(\"İlginizi Çekebilir!\")\n",
    "print(\"İlginizi Çekebilir!\")\n",
    "print(\"İlginizi Çekebilir!\")\n",
    "print(\"İlginizi Çekebilir!\")\n",
    "print(\"İlginizi Çekebilir!\")"
   ]
  },
  {
   "cell_type": "markdown",
   "id": "e594a044",
   "metadata": {},
   "source": [
    "**** KENDİNİ TEKRAR ETME ****"
   ]
  },
  {
   "cell_type": "markdown",
   "id": "c420ebcd",
   "metadata": {},
   "source": [
    "# VERİ TİPLERİ"
   ]
  },
  {
   "cell_type": "code",
   "execution_count": 7,
   "id": "b3c6b888",
   "metadata": {},
   "outputs": [],
   "source": [
    "# Bu bir yorum satırıdır. Yorum satırları kodu yazan kişiye yol göstericidir."
   ]
  },
  {
   "cell_type": "markdown",
   "id": "ca2d0549",
   "metadata": {},
   "source": [
    "## 1. String\n",
    "- Metinsel ifadelerdir.\n",
    "- Tırnak içerisinde yazılır.\n",
    "\n",
    "## 2. Integer\n",
    "- Tam sayı ifadeleridir.\n",
    "- Tırnak işareti içerisinde yazılmasına gerek yoktur.\n",
    "\n",
    "## 3.Float\n",
    "- Ondalıklı sayı ifadeleridir.\n",
    "- Tırnak işareti içerisinde yazılmasına gerek yoktur.\n"
   ]
  },
  {
   "cell_type": "code",
   "execution_count": 8,
   "id": "c6221848",
   "metadata": {},
   "outputs": [
    {
     "name": "stdout",
     "output_type": "stream",
     "text": [
      "48\n"
     ]
    }
   ],
   "source": [
    "vade = 48 #int\n",
    "print(vade)"
   ]
  },
  {
   "cell_type": "code",
   "execution_count": 9,
   "id": "56ab826f",
   "metadata": {},
   "outputs": [
    {
     "name": "stdout",
     "output_type": "stream",
     "text": [
      "1.68\n"
     ]
    }
   ],
   "source": [
    "faizOrani = 1.68 #float\n",
    "print(faizOrani) #faizOrani camelCase isimlendirme yöntemidir. Değişkenler arasında boşluk olamaz."
   ]
  },
  {
   "cell_type": "markdown",
   "id": "a445d95d",
   "metadata": {},
   "source": [
    "# type()\n",
    "- Veri tipi hakkında bilgi verir."
   ]
  },
  {
   "cell_type": "code",
   "execution_count": 11,
   "id": "de519733",
   "metadata": {},
   "outputs": [
    {
     "name": "stdout",
     "output_type": "stream",
     "text": [
      "<class 'float'>\n",
      "<class 'int'>\n",
      "<class 'str'>\n"
     ]
    }
   ],
   "source": [
    "print(type(faizOrani))\n",
    "print(type(vade))\n",
    "print(type(baslik))"
   ]
  },
  {
   "cell_type": "code",
   "execution_count": 12,
   "id": "c5453445",
   "metadata": {},
   "outputs": [
    {
     "ename": "TypeError",
     "evalue": "can only concatenate str (not \"int\") to str",
     "output_type": "error",
     "traceback": [
      "\u001b[1;31m---------------------------------------------------------------------------\u001b[0m",
      "\u001b[1;31mTypeError\u001b[0m                                 Traceback (most recent call last)",
      "\u001b[1;32m<ipython-input-12-970dbd97b289>\u001b[0m in \u001b[0;36m<module>\u001b[1;34m\u001b[0m\n\u001b[1;32m----> 1\u001b[1;33m \u001b[0mprint\u001b[0m\u001b[1;33m(\u001b[0m\u001b[1;34m\"Vade: \"\u001b[0m\u001b[1;33m+\u001b[0m \u001b[0mvade\u001b[0m\u001b[1;33m)\u001b[0m\u001b[1;33m\u001b[0m\u001b[1;33m\u001b[0m\u001b[0m\n\u001b[0m",
      "\u001b[1;31mTypeError\u001b[0m: can only concatenate str (not \"int\") to str"
     ]
    }
   ],
   "source": [
    "print(\"Vade: \"+ vade) #string ile int toplanamaz."
   ]
  },
  {
   "cell_type": "code",
   "execution_count": 14,
   "id": "8d67ef8f",
   "metadata": {},
   "outputs": [
    {
     "name": "stdout",
     "output_type": "stream",
     "text": [
      "Başlık: İlginizi Çekebilir!!!\n"
     ]
    }
   ],
   "source": [
    "print(\"Başlık: \"+ baslik) #string toplama"
   ]
  },
  {
   "cell_type": "code",
   "execution_count": null,
   "id": "167721d1",
   "metadata": {},
   "outputs": [],
   "source": []
  }
 ],
 "metadata": {
  "kernelspec": {
   "display_name": "Python 3",
   "language": "python",
   "name": "python3"
  },
  "language_info": {
   "codemirror_mode": {
    "name": "ipython",
    "version": 3
   },
   "file_extension": ".py",
   "mimetype": "text/x-python",
   "name": "python",
   "nbconvert_exporter": "python",
   "pygments_lexer": "ipython3",
   "version": "3.8.8"
  }
 },
 "nbformat": 4,
 "nbformat_minor": 5
}
